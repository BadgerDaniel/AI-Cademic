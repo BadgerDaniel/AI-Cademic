{
 "cells": [
  {
   "cell_type": "code",
   "execution_count": null,
   "id": "03b9a5b1-2613-456e-887d-b6e0a4888a66",
   "metadata": {},
   "outputs": [],
   "source": [
    "import os\n",
    "from pdf2image import convert_from_path\n",
    "#import will2live\n",
    "def convert_pdf_to_images(pdf_folder):\n",
    "    # loop through files in folder\n",
    "    for filename in os.listdir(pdf_folder):\n",
    "        if filename.endswith(\".pdf\"):\n",
    "            # make folder with name of PDF file \n",
    "            pdf_name = os.path.splitext(filename)[0]\n",
    "            image_folder = os.path.join(pdf_folder, pdf_name)\n",
    "            os.makedirs(image_folder, exist_ok=True)\n",
    "            \n",
    "            ## conversion\n",
    "            pdf_path = os.path.join(pdf_folder, filename)\n",
    "            images = convert_from_path(pdf_path)\n",
    "            \n",
    "            # save each image with format: pdffilename_p1, pdffilename_p2, etc.\n",
    "            for i, image in enumerate(images):\n",
    "                image_filename = f\"{pdf_name}_p{i + 1}.png\"\n",
    "                image_path = os.path.join(image_folder, image_filename)\n",
    "                image.save(image_path, 'PNG')\n",
    "            \n",
    "            print(f\"Converted {filename} to images in folder {image_folder}\")"
   ]
  },
  {
   "cell_type": "code",
   "execution_count": null,
   "id": "327c1f9f-2cd8-4ae0-8041-35ad29aae2b3",
   "metadata": {},
   "outputs": [],
   "source": [
    "pdf_folder_path=r'C:\\Users\\danny\\OneDrive - The University of Chicago\\DSJ - UCh OneDrive\\Summer 2024\\Summer Hackathon\\Academic_Papers'"
   ]
  },
  {
   "cell_type": "code",
   "execution_count": 9,
   "id": "9058beb0-5d9f-40fa-bdc0-d85d82790536",
   "metadata": {},
   "outputs": [
    {
     "name": "stdout",
     "output_type": "stream",
     "text": [
      "Converted attention.pdf to images in folder C:\\Users\\danny\\OneDrive - The University of Chicago\\DSJ - UCh OneDrive\\Summer 2024\\Summer Hackathon\\Academic_Papers\\attention\n",
      "Converted Challenges LLM July 19_23.pdf to images in folder C:\\Users\\danny\\OneDrive - The University of Chicago\\DSJ - UCh OneDrive\\Summer 2024\\Summer Hackathon\\Academic_Papers\\Challenges LLM July 19_23\n",
      "Converted Continual_Pretraining.pdf to images in folder C:\\Users\\danny\\OneDrive - The University of Chicago\\DSJ - UCh OneDrive\\Summer 2024\\Summer Hackathon\\Academic_Papers\\Continual_Pretraining\n",
      "Converted cs224n-2023-lecture11-prompting-rlhf.pdf to images in folder C:\\Users\\danny\\OneDrive - The University of Chicago\\DSJ - UCh OneDrive\\Summer 2024\\Summer Hackathon\\Academic_Papers\\cs224n-2023-lecture11-prompting-rlhf\n",
      "Converted llm_review 2.pdf to images in folder C:\\Users\\danny\\OneDrive - The University of Chicago\\DSJ - UCh OneDrive\\Summer 2024\\Summer Hackathon\\Academic_Papers\\llm_review 2\n",
      "Converted Multimodal.pdf to images in folder C:\\Users\\danny\\OneDrive - The University of Chicago\\DSJ - UCh OneDrive\\Summer 2024\\Summer Hackathon\\Academic_Papers\\Multimodal\n",
      "Converted Performance Evaluation.pdf to images in folder C:\\Users\\danny\\OneDrive - The University of Chicago\\DSJ - UCh OneDrive\\Summer 2024\\Summer Hackathon\\Academic_Papers\\Performance Evaluation\n",
      "Converted RAG Agent Resource-1.pdf to images in folder C:\\Users\\danny\\OneDrive - The University of Chicago\\DSJ - UCh OneDrive\\Summer 2024\\Summer Hackathon\\Academic_Papers\\RAG Agent Resource-1\n"
     ]
    }
   ],
   "source": [
    "convert_pdf_to_images(pdf_folder_path)"
   ]
  },
  {
   "cell_type": "code",
   "execution_count": null,
   "id": "7e64339e-1d77-45f2-a508-8b6a106eee19",
   "metadata": {},
   "outputs": [],
   "source": []
  }
 ],
 "metadata": {
  "kernelspec": {
   "display_name": "Python 3 (ipykernel)",
   "language": "python",
   "name": "python3"
  },
  "language_info": {
   "codemirror_mode": {
    "name": "ipython",
    "version": 3
   },
   "file_extension": ".py",
   "mimetype": "text/x-python",
   "name": "python",
   "nbconvert_exporter": "python",
   "pygments_lexer": "ipython3",
   "version": "3.9.18"
  }
 },
 "nbformat": 4,
 "nbformat_minor": 5
}
